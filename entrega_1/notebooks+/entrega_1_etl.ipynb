{
 "cells": [
  {
   "cell_type": "markdown",
   "metadata": {},
   "source": [
    "# Generación de ficheros de metadatos y lectura de formatos en python/R"
   ]
  },
  {
   "cell_type": "markdown",
   "metadata": {},
   "source": [
    "##### Autor: Manuel Matías Corredoira de Soto"
   ]
  },
  {
   "cell_type": "markdown",
   "metadata": {},
   "source": [
    "##### Lectura y tratamiento de información estructurada sobre fuentes de metainformación que contenga la estructura de los datos con los que trabajamos."
   ]
  },
  {
   "cell_type": "markdown",
   "metadata": {},
   "source": [
    "## JSON"
   ]
  },
  {
   "cell_type": "markdown",
   "metadata": {},
   "source": [
    "JSON es un formato de texto que es completamente independiente del lenguaje pero utiliza convenciones que son ampliamente conocidos por los programadores de la familia de lenguajes C, incluyendo C, C++, C#, Java, JavaScript, Perl, Python, y muchos otros. Estas propiedades hacen que JSON sea un lenguaje ideal para el intercambio de datos.\n",
    "\n",
    "JSON está constituído por dos estructuras:\n",
    "Una colección de pares de nombre/valor. En varios lenguajes esto es conocido como un objeto, registro, estructura, diccionario, tabla hash, lista de claves o un arreglo asociativo.\n",
    "Una lista ordenada de valores. En la mayoría de los lenguajes, esto se implementa como arreglos, vectores, listas o sequencias.\n",
    "Estas son estructuras universales; virtualmente todos los lenguajes de programación las soportan de una forma u otra. Es razonable que un formato de intercambio de datos que es independiente del lenguaje de programación se base en estas estructuras.\n",
    "\n",
    "En JSON, se presentan de estas formas:\n",
    "\n",
    "Un objeto es un conjunto desordenado de pares nombre/valor. Un objeto comienza con {llave de apertura y termine con }llave de cierre. Cada nombre es seguido por :dos puntos y los pares nombre/valor están separados por ,coma."
   ]
  },
  {
   "cell_type": "markdown",
   "metadata": {},
   "source": [
    "## YAML"
   ]
  },
  {
   "cell_type": "markdown",
   "metadata": {},
   "source": [
    "YAML es un formato para serializar datos que es fácil de procesar por las máquinas, fácil de leer para las personas y fácil de interactuar con los lenguajes de script. Dicho de otra forma, YAML es un lenguaje muy sencillo que permite describir los datos como en XML, pero con una sintaxis mucho más sencilla. YAML es un formato especialmente útil para describir datos que pueden ser transformados en arrays simples y asociativos. Está inspirado en lenguajes como XML, C, Python, Perl, así como el formato para correos electrónicos especificado por el RFC 2822.\n"
   ]
  },
  {
   "cell_type": "markdown",
   "metadata": {},
   "source": [
    "#### Origen"
   ]
  },
  {
   "cell_type": "markdown",
   "metadata": {},
   "source": [
    "   YAML fue propuesto por Clark Evans en 2001, quien lo diseñó junto a Oren Ben-Kiki. YAML es un acrónimo recursivo que significa \"YAML Ain't Another Markup Language (en castellano, \"YAML no es otro lenguaje de marcado\"). A comienzos de su desarrollo, YAML significaba \"Yet Another Markup Language\" (\"Otro lenguaje de marcado más\") para distinguir su propósito centrado en los datos en lugar del marcado de documentos. Sin embargo, dado que se usa frecuentemente XML para serializar datos y XML es un auténtico lenguaje de marcado de documentos, es razonable considerar YAML como un lenguaje de marcado ligero. El formato se lleva utilizando desde 2001 y existen utilidades para procesar YAML en una gran variedad de lenguajes de programación"
   ]
  },
  {
   "cell_type": "markdown",
   "metadata": {},
   "source": [
    "#### Características generales "
   ]
  },
  {
   "cell_type": "markdown",
   "metadata": {},
   "source": [
    "Sus puntos principales son los siguientes:\n",
    "- YAML es un lenguaje basado en datos que tiene características derivadas de Perl, C, HTML y otros lenguajes.\n",
    "- YAML es un superconjunto derivado de JSON que viene con varias ventajas integradas, como comentarios, autoreferencia y compatibilidad con tipos de datos complejos.\n",
    "- Varios paquetes de software han implementado YAML para crear potentes herramientas de administración de configuración.\n",
    "- Infraestructura de alto rendimiento\n",
    "- Puede ver más información técnica sobre YAML en su sitio web oficial o en el sitio web de referencia de Ansible – RedHat, ambos en inglés."
   ]
  },
  {
   "cell_type": "markdown",
   "metadata": {},
   "source": [
    "### Importación JSON"
   ]
  },
  {
   "cell_type": "markdown",
   "metadata": {},
   "source": [
    "Para esta tarea hemos decidido cargar una base de datos que contiene los subtitulos pertenecientes a la temporada 4 de la famosa serie de television Game Of Thrones"
   ]
  },
  {
   "cell_type": "code",
   "execution_count": 48,
   "metadata": {},
   "outputs": [
    {
     "data": {
      "text/html": [
       "<div>\n",
       "<style scoped>\n",
       "    .dataframe tbody tr th:only-of-type {\n",
       "        vertical-align: middle;\n",
       "    }\n",
       "\n",
       "    .dataframe tbody tr th {\n",
       "        vertical-align: top;\n",
       "    }\n",
       "\n",
       "    .dataframe thead th {\n",
       "        text-align: right;\n",
       "    }\n",
       "</style>\n",
       "<table border=\"1\" class=\"dataframe\">\n",
       "  <thead>\n",
       "    <tr style=\"text-align: right;\">\n",
       "      <th></th>\n",
       "      <th>Game Of Thrones S04E01 Two Swords.srt</th>\n",
       "      <th>Game Of Thrones S04E02 The Lion And The Rose.srt</th>\n",
       "      <th>Game Of Thrones S04E03 Breaker Of Chains.srt</th>\n",
       "      <th>Game Of Thrones S04E04 Oathkeeper.srt</th>\n",
       "      <th>Game Of Thrones S04E05 First Of His Name.srt</th>\n",
       "      <th>Game Of Thrones S04E06 The Laws Of Gods And Men.srt</th>\n",
       "      <th>Game Of Thrones S04E07 Mockingbird.srt</th>\n",
       "      <th>Game Of Thrones S04E08 The Mountain And The Viper.srt</th>\n",
       "      <th>Game Of Thrones S04E09 The Watchers On The Wall.srt</th>\n",
       "      <th>Game Of Thrones S04E10 The Children.srt</th>\n",
       "      <th>season4.json</th>\n",
       "    </tr>\n",
       "  </thead>\n",
       "  <tbody>\n",
       "    <tr>\n",
       "      <th>1</th>\n",
       "      <td>- Magnificent. - Mmm-hmm.</td>\n",
       "      <td>Tansy!</td>\n",
       "      <td>You did this!</td>\n",
       "      <td>\"My name</td>\n",
       "      <td>May the Warrior grant him courage</td>\n",
       "      <td>Your Grace, if you'd like to sit, I'm sure tha...</td>\n",
       "      <td>I made a deal for you,</td>\n",
       "      <td>Here we are.</td>\n",
       "      <td>What was she like?</td>\n",
       "      <td>You're wearing a black cloak again.</td>\n",
       "      <td>NaN</td>\n",
       "    </tr>\n",
       "    <tr>\n",
       "      <th>10</th>\n",
       "      <td>You've wanted one in the family for a long time.</td>\n",
       "      <td>- Tansy! - Where is she?</td>\n",
       "      <td>You'll be fine.</td>\n",
       "      <td>When did they take me?</td>\n",
       "      <td>I now proclaim Tommen of the House Baratheon,</td>\n",
       "      <td>King of the Andals and the First Men,</td>\n",
       "      <td>You fell in love with a whore.</td>\n",
       "      <td>Too bad you got a hangnail for a cock.</td>\n",
       "      <td>So you and Gilly never?</td>\n",
       "      <td>I was loyal</td>\n",
       "      <td>NaN</td>\n",
       "    </tr>\n",
       "    <tr>\n",
       "      <th>100</th>\n",
       "      <td>How lovely is she?</td>\n",
       "      <td>This was Balon Greyjoy's son and heir.</td>\n",
       "      <td>He built this Sept.</td>\n",
       "      <td>He named you for his champion</td>\n",
       "      <td>It appears my liberation of Slaver's Bay isn't...</td>\n",
       "      <td>\"Bring me my brown pants!\"</td>\n",
       "      <td>Could I have a drink?</td>\n",
       "      <td>do you remember that?</td>\n",
       "      <td>It's exactly what the survivors of their raids...</td>\n",
       "      <td>You're speaking to the one true king, boy.</td>\n",
       "      <td>NaN</td>\n",
       "    </tr>\n",
       "    <tr>\n",
       "      <th>101</th>\n",
       "      <td>Beautiful.</td>\n",
       "      <td>We've been flaying our enemies for 1,000 years.</td>\n",
       "      <td>He also named a 6-year-old boy High Septon</td>\n",
       "      <td>because he knew you would ride day and night t...</td>\n",
       "      <td>You could sail for Westeros and leave it all b...</td>\n",
       "      <td>You think they ever met a pirate who didn't te...</td>\n",
       "      <td>Dying is thirsty work.</td>\n",
       "      <td>I'm sorry.</td>\n",
       "      <td>Yes, imagine the stories wildlings tell about us.</td>\n",
       "      <td>You will address him as \"Your Grace.\"</td>\n",
       "      <td>NaN</td>\n",
       "    </tr>\n",
       "    <tr>\n",
       "      <th>102</th>\n",
       "      <td>But pale.</td>\n",
       "      <td>The flayed man is on our banners.</td>\n",
       "      <td>because he thought the boy could work miracles.</td>\n",
       "      <td>You gonna fight for him now?</td>\n",
       "      <td>A boy sits on the Iron Throne.</td>\n",
       "      <td>Davos.</td>\n",
       "      <td>Wish it were wine.</td>\n",
       "      <td>- I'm sorry they did that to you. - Why?</td>\n",
       "      <td>Love is the death of duty.</td>\n",
       "      <td>I know he's the king. My father died for him.</td>\n",
       "      <td>NaN</td>\n",
       "    </tr>\n",
       "  </tbody>\n",
       "</table>\n",
       "</div>"
      ],
      "text/plain": [
       "                Game Of Thrones S04E01 Two Swords.srt  \\\n",
       "1                           - Magnificent. - Mmm-hmm.   \n",
       "10   You've wanted one in the family for a long time.   \n",
       "100                                How lovely is she?   \n",
       "101                                        Beautiful.   \n",
       "102                                         But pale.   \n",
       "\n",
       "    Game Of Thrones S04E02 The Lion And The Rose.srt  \\\n",
       "1                                             Tansy!   \n",
       "10                          - Tansy! - Where is she?   \n",
       "100           This was Balon Greyjoy's son and heir.   \n",
       "101  We've been flaying our enemies for 1,000 years.   \n",
       "102                The flayed man is on our banners.   \n",
       "\n",
       "        Game Of Thrones S04E03 Breaker Of Chains.srt  \\\n",
       "1                                      You did this!   \n",
       "10                                   You'll be fine.   \n",
       "100                              He built this Sept.   \n",
       "101       He also named a 6-year-old boy High Septon   \n",
       "102  because he thought the boy could work miracles.   \n",
       "\n",
       "                 Game Of Thrones S04E04 Oathkeeper.srt  \\\n",
       "1                                             \"My name   \n",
       "10                              When did they take me?   \n",
       "100                      He named you for his champion   \n",
       "101  because he knew you would ride day and night t...   \n",
       "102                       You gonna fight for him now?   \n",
       "\n",
       "          Game Of Thrones S04E05 First Of His Name.srt  \\\n",
       "1                    May the Warrior grant him courage   \n",
       "10       I now proclaim Tommen of the House Baratheon,   \n",
       "100  It appears my liberation of Slaver's Bay isn't...   \n",
       "101  You could sail for Westeros and leave it all b...   \n",
       "102                     A boy sits on the Iron Throne.   \n",
       "\n",
       "    Game Of Thrones S04E06 The Laws Of Gods And Men.srt  \\\n",
       "1    Your Grace, if you'd like to sit, I'm sure tha...    \n",
       "10               King of the Andals and the First Men,    \n",
       "100                         \"Bring me my brown pants!\"    \n",
       "101  You think they ever met a pirate who didn't te...    \n",
       "102                                             Davos.    \n",
       "\n",
       "    Game Of Thrones S04E07 Mockingbird.srt  \\\n",
       "1                   I made a deal for you,   \n",
       "10          You fell in love with a whore.   \n",
       "100                  Could I have a drink?   \n",
       "101                 Dying is thirsty work.   \n",
       "102                     Wish it were wine.   \n",
       "\n",
       "    Game Of Thrones S04E08 The Mountain And The Viper.srt  \\\n",
       "1                                         Here we are.      \n",
       "10              Too bad you got a hangnail for a cock.      \n",
       "100                              do you remember that?      \n",
       "101                                         I'm sorry.      \n",
       "102           - I'm sorry they did that to you. - Why?      \n",
       "\n",
       "    Game Of Thrones S04E09 The Watchers On The Wall.srt  \\\n",
       "1                                   What was she like?    \n",
       "10                             So you and Gilly never?    \n",
       "100  It's exactly what the survivors of their raids...    \n",
       "101  Yes, imagine the stories wildlings tell about us.    \n",
       "102                         Love is the death of duty.    \n",
       "\n",
       "           Game Of Thrones S04E10 The Children.srt  season4.json  \n",
       "1              You're wearing a black cloak again.           NaN  \n",
       "10                                     I was loyal           NaN  \n",
       "100     You're speaking to the one true king, boy.           NaN  \n",
       "101          You will address him as \"Your Grace.\"           NaN  \n",
       "102  I know he's the king. My father died for him.           NaN  "
      ]
     },
     "execution_count": 48,
     "metadata": {},
     "output_type": "execute_result"
    }
   ],
   "source": [
    "import pandas as pd\n",
    "got4 = pd.read_json('../data/season4.json')   # Carga de datos\n",
    "got4.head()                                   # Visualización"
   ]
  },
  {
   "cell_type": "markdown",
   "metadata": {},
   "source": [
    "### Abrir archivos YAML"
   ]
  },
  {
   "cell_type": "code",
   "execution_count": 49,
   "metadata": {},
   "outputs": [],
   "source": [
    "import yaml"
   ]
  },
  {
   "cell_type": "code",
   "execution_count": 53,
   "metadata": {},
   "outputs": [
    {
     "name": "stdout",
     "output_type": "stream",
     "text": [
      "{'name': 'data-science-handbook', 'channels': ['conda-forge'], 'dependencies': ['python=3.5', {'pip': ['-r requirements.txt']}]}\n"
     ]
    }
   ],
   "source": [
    "with open('../data/environment_.yml') as file:                   # Carga\n",
    "        datos = yaml.load(file, Loader = yaml.FullLoader)\n",
    "\n",
    "print(datos)                                                     # Visualización"
   ]
  },
  {
   "cell_type": "markdown",
   "metadata": {},
   "source": [
    "### Lectura de datos con Spark"
   ]
  },
  {
   "cell_type": "markdown",
   "metadata": {},
   "source": [
    "Desde Spark es posible la lectura de ambos arcchivos, sin embargo en el caso de los yaml, a diferencia de json es necesario realizar transformaciones a json y a dataframe. Esto con un json se puede realizar directamente"
   ]
  },
  {
   "cell_type": "markdown",
   "metadata": {},
   "source": [
    "### ¿Qué tipo de bases de datos No SQL usa estructuras de datos similares?"
   ]
  },
  {
   "cell_type": "markdown",
   "metadata": {},
   "source": [
    "Un ejemplo es CouchDB, se trata de un gestor de bases de datos de código abierto, se centra en la facilidad de  uso. Se trata de una base de datos NoSQL que emplea JSON para almacenar los datos, JavaScript como lenguaje de consulta por medio de MapReduce y HTTP como API.\n",
    "CouchDB implementa una forma de control de concurrencia multiversión para evitar la necesidad de bloquear el archivo de base de datos durante las escrituras."
   ]
  },
  {
   "cell_type": "markdown",
   "metadata": {},
   "source": [
    "### Referencias"
   ]
  },
  {
   "cell_type": "markdown",
   "metadata": {},
   "source": [
    " Para realizar una visión general de yaml. Procedente de https://es.wikipedia.org/wiki/YAML"
   ]
  },
  {
   "cell_type": "markdown",
   "metadata": {},
   "source": [
    " Para realizar una visión general de json. Procedente de https://www.json.org/json-es.html"
   ]
  },
  {
   "cell_type": "markdown",
   "metadata": {},
   "source": [
    "Búsqueda de información adicional sobre json. Procedente de https://www.mclibre.org/consultar/informatica/lecciones/formato-json.html"
   ]
  },
  {
   "cell_type": "markdown",
   "metadata": {},
   "source": [
    "Búsqueda de información adicional sobre yaml. Procedente de https://marquesfernandes.com/es/tecnologia-es/file-yaml-what-and-and-for-that-serves/"
   ]
  }
 ],
 "metadata": {
  "kernelspec": {
   "display_name": "Python 3",
   "language": "python",
   "name": "python3"
  },
  "language_info": {
   "codemirror_mode": {
    "name": "ipython",
    "version": 3
   },
   "file_extension": ".py",
   "mimetype": "text/x-python",
   "name": "python",
   "nbconvert_exporter": "python",
   "pygments_lexer": "ipython3",
   "version": "3.8.5"
  }
 },
 "nbformat": 4,
 "nbformat_minor": 4
}
